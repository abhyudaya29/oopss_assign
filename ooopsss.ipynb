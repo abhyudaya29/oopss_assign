{
 "cells": [
  {
   "cell_type": "markdown",
   "id": "fe11ce0d-90f4-48d3-908d-ed11a0bd2057",
   "metadata": {},
   "source": [
    "Q1) Q1. What is Abstraction in OOps? Explain with an example."
   ]
  },
  {
   "cell_type": "raw",
   "id": "eaa7ec3a-cceb-4fef-a8ec-cc98797c915f",
   "metadata": {},
   "source": [
    "Abstraction is one of the key concepts of object-oriented programming (OOP) languages. \n",
    "Its main goal is to handle complexity by hiding unnecessary details from the user. \n",
    "That enables the user to implement more complex logic on top of the provided abstraction without understanding or \n",
    "even thinking about all the hidden complexity.\n",
    "\n",
    "example:\n",
    "Modern coffee machines have become pretty complex. Depending on your choice of coffee, they decide which of the available coffee beans to use and how to grind them. They also use the right amount of water and heat it to the required temperature to brew a huge cup of filter coffee or a small and strong espresso."
   ]
  },
  {
   "cell_type": "markdown",
   "id": "e23d2efe-62db-4dab-a86e-1b71240c322b",
   "metadata": {},
   "source": [
    "q2)Q2. Differentiate between Abstraction and Encapsulation. Explain with an example."
   ]
  },
  {
   "cell_type": "markdown",
   "id": "89cc5c1d-532c-4563-aaa4-1e2629f134ab",
   "metadata": {},
   "source": [
    "Encapsulation is a way of making a complex system easier for end users to use. \n",
    "Users don’t have to worry about the internal details and complexities of the system. E\n",
    "ncapsulation is the process of wrapping data and the code that processes the data into a single entity. \n",
    "It can be assumed to be a protective wrapper that stops accidental access to code defined outside of that wrapper\n",
    "\n",
    "\n",
    "## Abstraction: \n",
    "Abstraction is one of the key concepts of object-oriented programming (OOP) languages. \n",
    "Its main goal is to handle complexity by hiding unnecessary details from the user. \n",
    "That enables the user to implement more complex logic on top of the provided abstraction without understanding or \n",
    "even thinking about all the hidden complexity.\n"
   ]
  },
  {
   "cell_type": "markdown",
   "id": "35994f26-8326-425d-bc80-3d76e539b0f6",
   "metadata": {},
   "source": [
    "Q3. What is abc module in python? Why is it used?"
   ]
  },
  {
   "cell_type": "markdown",
   "id": "e5dbd5c3-5620-4730-af59-c2774e9b27ef",
   "metadata": {},
   "source": [
    "The abc module defines ABCMeta class which is a metaclass for defining abstract base class. \n",
    "Following example defines Shape class as an abstract base class using ABCMeta. \n",
    "The shape class has area() method decorated by abstractmethod."
   ]
  },
  {
   "cell_type": "markdown",
   "id": "42d137fb-9c07-4de3-91f3-eaf44f6b8f0a",
   "metadata": {},
   "source": [
    "Q4. How can we achieve data abstraction?"
   ]
  },
  {
   "cell_type": "raw",
   "id": "e68ce9c6-81c4-45ae-8934-5c23cee7565b",
   "metadata": {},
   "source": [
    "Abstraction is used to hide the internal functionality of the function from the users. \n",
    "The users only interact with the basic implementation of the function, but inner working is hidden. \n",
    "User is familiar with that \"what function does\" but they don't know \"how it does.\""
   ]
  },
  {
   "cell_type": "raw",
   "id": "7ae53184-9181-4309-8088-19020405b4b5",
   "metadata": {},
   "source": [
    "Q5)Q5. Can we create an instance of an abstract class? Explain your answer."
   ]
  },
  {
   "cell_type": "raw",
   "id": "0901e2df-4308-4702-a714-a794287b9a41",
   "metadata": {},
   "source": [
    "Abstract classes cannot be instantiated, but they can be subclassed. When an abstract class is subclassed, \n",
    "the subclass usually provides implementations for all of the abstract methods in its parent class. "
   ]
  }
 ],
 "metadata": {
  "kernelspec": {
   "display_name": "Python 3 (ipykernel)",
   "language": "python",
   "name": "python3"
  },
  "language_info": {
   "codemirror_mode": {
    "name": "ipython",
    "version": 3
   },
   "file_extension": ".py",
   "mimetype": "text/x-python",
   "name": "python",
   "nbconvert_exporter": "python",
   "pygments_lexer": "ipython3",
   "version": "3.10.8"
  }
 },
 "nbformat": 4,
 "nbformat_minor": 5
}
